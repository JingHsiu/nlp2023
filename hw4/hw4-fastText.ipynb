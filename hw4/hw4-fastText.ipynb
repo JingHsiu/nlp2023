{
 "cells": [
  {
   "cell_type": "code",
   "execution_count": 1,
   "id": "20ad8950",
   "metadata": {},
   "outputs": [],
   "source": [
    "import os\n",
    "import gensim\n",
    "import jieba\n",
    "import zhconv\n",
    "\n",
    "if (not os.path.isfile(\"dict.txt.big\")):\n",
    "    ! wget https://github.com/fxsjy/jieba/raw/master/extra_dict/dict.txt.big\n",
    "\n",
    "jieba.set_dictionary(\"dict.txt.big\")"
   ]
  },
  {
   "cell_type": "code",
   "execution_count": 2,
   "id": "7789f16d",
   "metadata": {},
   "outputs": [],
   "source": [
    "import spacy\n",
    "\n",
    "nlp_zh = spacy.load(\"zh_core_web_sm\")\n",
    "nlp_en = spacy.load(\"en_core_web_sm\")"
   ]
  },
  {
   "cell_type": "code",
   "execution_count": 3,
   "id": "6ee9c465",
   "metadata": {},
   "outputs": [],
   "source": [
    "STOPWORDS =  nlp_zh.Defaults.stop_words | nlp_en.Defaults.stop_words | set([\"\\n\", \"\\r\\n\", \"\\t\", \" \", \"\"])\n",
    "\n",
    "for word in STOPWORDS.copy():\n",
    "    STOPWORDS.add(zhconv.convert(word, \"zh-tw\"))"
   ]
  },
  {
   "cell_type": "code",
   "execution_count": 4,
   "id": "024c77f5",
   "metadata": {},
   "outputs": [],
   "source": [
    "def preprocess_and_tokenize(text, token_min_len = 1, token_max_len = 15, lower = True):\n",
    "    if (lower):\n",
    "        text = text.lower()\n",
    "    text = zhconv.convert(text, \"zh-tw\")\n",
    "    return [\n",
    "        token for token in jieba.cut(text, cut_all = False)\n",
    "        if token_min_len <= len(token) <= token_max_len and token not in STOPWORDS\n",
    "    ]"
   ]
  },
  {
   "cell_type": "code",
   "execution_count": 5,
   "id": "41d5f1aa",
   "metadata": {},
   "outputs": [
    {
     "name": "stderr",
     "output_type": "stream",
     "text": [
      "Building prefix dict from /Users/hsiu/Desktop/cgu/nlp/HW/hw4/dict.txt.big ...\n",
      "Dumping model to file cache /var/folders/8q/s5rn_lld0qj8zg63cy8t3xtw0000gn/T/jieba.u362f17834e03b0390f888de340f1b114.cache\n",
      "Loading model cost 1.067 seconds.\n",
      "Prefix dict has been built succesfully.\n"
     ]
    }
   ],
   "source": [
    "import fasttext\n",
    "import fasttext.util\n",
    "\n",
    "tokenized_data = []\n",
    "n = 0\n",
    "with open(\"wiki_seg.txt\") as f:\n",
    "    for row in f.readlines():\n",
    "        tokenized_data.append(preprocess_and_tokenize(row))"
   ]
  },
  {
   "cell_type": "code",
   "execution_count": 6,
   "id": "98043f5b",
   "metadata": {},
   "outputs": [],
   "source": [
    "from gensim.models import FastText\n",
    "\n",
    "model = FastText()\n",
    "\n",
    "model.build_vocab(tokenized_data)\n",
    "model.train(tokenized_data, total_examples = len(tokenized_data), epochs = 300) \n",
    "\n",
    "model.save(\"fasttext.mdl\")"
   ]
  },
  {
   "cell_type": "code",
   "execution_count": 7,
   "id": "bb9c75d1",
   "metadata": {},
   "outputs": [
    {
     "data": {
      "text/plain": [
       "[('飲品', 0.9117832183837891),\n",
       " ('果汁', 0.8205680847167969),\n",
       " ('酒類', 0.7712692618370056),\n",
       " ('可口可樂', 0.7413931488990784),\n",
       " ('冰淇淋', 0.7404088973999023),\n",
       " ('啤酒', 0.7330322265625),\n",
       " ('牛奶', 0.7243913412094116),\n",
       " ('口香糖', 0.7166147828102112),\n",
       " ('食品', 0.7139566540718079),\n",
       " ('軟飲料', 0.712602972984314)]"
      ]
     },
     "execution_count": 7,
     "metadata": {},
     "output_type": "execute_result"
    }
   ],
   "source": [
    "model.wv.most_similar(\"飲料\")"
   ]
  },
  {
   "cell_type": "code",
   "execution_count": 8,
   "id": "3189ce2a",
   "metadata": {},
   "outputs": [
    {
     "data": {
      "text/plain": [
       "[('truck', 0.8288451433181763),\n",
       " ('motor', 0.8246199488639832),\n",
       " ('seat', 0.8153491020202637),\n",
       " ('motorcoach', 0.8148860931396484),\n",
       " ('motorist', 0.8130364418029785),\n",
       " ('motorcar', 0.8084441423416138),\n",
       " ('cab', 0.806026816368103),\n",
       " ('motorcycle', 0.803566038608551),\n",
       " ('automobile', 0.8030974864959717),\n",
       " ('tractor', 0.8025482892990112)]"
      ]
     },
     "execution_count": 8,
     "metadata": {},
     "output_type": "execute_result"
    }
   ],
   "source": [
    "model.wv.most_similar(\"car\")"
   ]
  },
  {
   "cell_type": "code",
   "execution_count": 9,
   "id": "287788ef",
   "metadata": {},
   "outputs": [
    {
     "data": {
      "text/plain": [
       "[('youtubefacebook', 0.8336827158927917),\n",
       " ('instagram', 0.8332372307777405),\n",
       " ('專頁', 0.7994852066040039),\n",
       " ('thefacebook', 0.7915207743644714),\n",
       " ('youtube', 0.7496374845504761),\n",
       " ('linkedin', 0.7484966516494751),\n",
       " ('lnstagram', 0.7386245131492615),\n",
       " ('blogger', 0.724703311920166),\n",
       " ('whatsapp', 0.7205793857574463),\n",
       " ('telegram', 0.716116189956665)]"
      ]
     },
     "execution_count": 9,
     "metadata": {},
     "output_type": "execute_result"
    }
   ],
   "source": [
    "model.wv.most_similar(\"facebook\")"
   ]
  },
  {
   "cell_type": "code",
   "execution_count": 10,
   "id": "8642a0d5",
   "metadata": {},
   "outputs": [
    {
     "data": {
      "text/plain": [
       "[('欺詐', 0.7753905057907104),\n",
       " ('詐騙', 0.6466060876846313),\n",
       " ('竊盜', 0.615557849407196),\n",
       " ('被害者', 0.5958162546157837),\n",
       " ('盜領', 0.590490996837616),\n",
       " ('詐欺罪', 0.5892660617828369),\n",
       " ('殺人', 0.5864850282669067),\n",
       " ('信用調查', 0.5851697325706482),\n",
       " ('誘拐', 0.5669840574264526),\n",
       " ('犯罪', 0.5627837181091309)]"
      ]
     },
     "execution_count": 10,
     "metadata": {},
     "output_type": "execute_result"
    }
   ],
   "source": [
    "model.wv.most_similar(\"詐欺\")"
   ]
  },
  {
   "cell_type": "code",
   "execution_count": 11,
   "id": "5495f62b",
   "metadata": {},
   "outputs": [
    {
     "data": {
      "text/plain": [
       "[('合同', 0.7965822815895081),\n",
       " ('簽約', 0.7835227847099304),\n",
       " ('續約', 0.7830365896224976),\n",
       " ('到期', 0.7624660134315491),\n",
       " ('簽下', 0.7064452767372131),\n",
       " ('租約', 0.7030776143074036),\n",
       " ('解約', 0.7006136775016785),\n",
       " ('買斷', 0.6862468719482422),\n",
       " ('新東家', 0.671778678894043),\n",
       " ('籤下', 0.6657853722572327)]"
      ]
     },
     "execution_count": 11,
     "metadata": {},
     "output_type": "execute_result"
    }
   ],
   "source": [
    "model.wv.most_similar(\"合約\")"
   ]
  },
  {
   "cell_type": "code",
   "execution_count": 12,
   "id": "94af772e",
   "metadata": {},
   "outputs": [
    {
     "data": {
      "text/plain": [
       "[('飲品', 0.9117832183837891),\n",
       " ('果汁', 0.8205680847167969),\n",
       " ('酒類', 0.7712692618370056),\n",
       " ('可口可樂', 0.7413931488990784),\n",
       " ('冰淇淋', 0.7404088973999023),\n",
       " ('啤酒', 0.7330322265625),\n",
       " ('牛奶', 0.7243913412094116),\n",
       " ('口香糖', 0.7166147828102112),\n",
       " ('食品', 0.7139566540718079),\n",
       " ('軟飲料', 0.712602972984314)]"
      ]
     },
     "execution_count": 12,
     "metadata": {},
     "output_type": "execute_result"
    }
   ],
   "source": [
    "model.wv.most_similar(\"飲料\")"
   ]
  },
  {
   "cell_type": "code",
   "execution_count": 13,
   "id": "4d54c00b",
   "metadata": {},
   "outputs": [
    {
     "data": {
      "text/plain": [
       "0.9339111"
      ]
     },
     "execution_count": 13,
     "metadata": {},
     "output_type": "execute_result"
    }
   ],
   "source": [
    "model.wv.similarity(\"連結\", \"鏈結\")"
   ]
  },
  {
   "cell_type": "code",
   "execution_count": 14,
   "id": "641cbc17",
   "metadata": {},
   "outputs": [
    {
     "data": {
      "text/plain": [
       "0.041523255"
      ]
     },
     "execution_count": 14,
     "metadata": {},
     "output_type": "execute_result"
    }
   ],
   "source": [
    "model.wv.similarity(\"連結\", \"陰天\")"
   ]
  }
 ],
 "metadata": {
  "kernelspec": {
   "display_name": "Python 3 (ipykernel)",
   "language": "python",
   "name": "python3"
  },
  "language_info": {
   "codemirror_mode": {
    "name": "ipython",
    "version": 3
   },
   "file_extension": ".py",
   "mimetype": "text/x-python",
   "name": "python",
   "nbconvert_exporter": "python",
   "pygments_lexer": "ipython3",
   "version": "3.9.13"
  }
 },
 "nbformat": 4,
 "nbformat_minor": 5
}
