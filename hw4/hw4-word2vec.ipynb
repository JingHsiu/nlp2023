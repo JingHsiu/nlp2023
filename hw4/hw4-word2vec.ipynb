{
 "cells": [
  {
   "cell_type": "code",
   "execution_count": 1,
   "id": "0e174465",
   "metadata": {},
   "outputs": [],
   "source": [
    "%load_ext memory_profiler"
   ]
  },
  {
   "cell_type": "code",
   "execution_count": 2,
   "id": "3a9cbeaf",
   "metadata": {},
   "outputs": [],
   "source": [
    "import os\n",
    "import gensim\n",
    "import jieba\n",
    "import zhconv\n",
    "from gensim.corpora import WikiCorpus\n",
    "from datetime import datetime\n",
    "from typing import List\n",
    "\n",
    "if (not os.path.isfile(\"dict.txt.big\")):\n",
    "    ! wget https://github.com/fxsjy/jieba/raw/master/extra_dict/dict.txt.big\n",
    "\n",
    "jieba.set_dictionary(\"dict.txt.big\")"
   ]
  },
  {
   "cell_type": "code",
   "execution_count": 3,
   "id": "52c347ee",
   "metadata": {},
   "outputs": [
    {
     "name": "stdout",
     "output_type": "stream",
     "text": [
      "2.6G\tzhwiki-20230501-pages-articles-multistream.xml.bz2\n",
      "MD5 (zhwiki-20230501-pages-articles-multistream.xml.bz2) = 27e78ff901bcd3803955d9373537dd3f\n",
      "zhwiki-20230501-pages-articles-multistream.xml.bz2: bzip2 compressed data, block size = 900k\n"
     ]
    }
   ],
   "source": [
    "ZhWiki = \"zhwiki-20230501-pages-articles-multistream.xml.bz2\"\n",
    "\n",
    "!du -sh $ZhWiki\n",
    "!md5 $ZhWiki\n",
    "!file $ZhWiki"
   ]
  },
  {
   "cell_type": "code",
   "execution_count": 4,
   "id": "ca217bdf",
   "metadata": {
    "scrolled": true
   },
   "outputs": [
    {
     "name": "stdout",
     "output_type": "stream",
     "text": [
      "Collecting zh-core-web-sm==3.5.0\n",
      "  Downloading https://github.com/explosion/spacy-models/releases/download/zh_core_web_sm-3.5.0/zh_core_web_sm-3.5.0-py3-none-any.whl (48.5 MB)\n",
      "     ━━━━━━━━━━━━━━━━━━━━━━━━━━━━━━━━━━━━━━━━ 48.5/48.5 MB 52.1 kB/s eta 0:00:00\n",
      "Requirement already satisfied: spacy<3.6.0,>=3.5.0 in /Users/hsiu/opt/anaconda3/lib/python3.9/site-packages (from zh-core-web-sm==3.5.0) (3.5.2)\n",
      "Collecting spacy-pkuseg<0.1.0,>=0.0.27\n",
      "  Downloading spacy_pkuseg-0.0.32-cp39-cp39-macosx_11_0_arm64.whl (2.3 MB)\n",
      "     ━━━━━━━━━━━━━━━━━━━━━━━━━━━━━━━━━━━━━━━━ 2.3/2.3 MB 56.0 kB/s eta 0:00:00\n",
      "Requirement already satisfied: jinja2 in /Users/hsiu/opt/anaconda3/lib/python3.9/site-packages (from spacy<3.6.0,>=3.5.0->zh-core-web-sm==3.5.0) (2.11.3)\n",
      "Requirement already satisfied: spacy-legacy<3.1.0,>=3.0.11 in /Users/hsiu/opt/anaconda3/lib/python3.9/site-packages (from spacy<3.6.0,>=3.5.0->zh-core-web-sm==3.5.0) (3.0.12)\n",
      "Requirement already satisfied: catalogue<2.1.0,>=2.0.6 in /Users/hsiu/opt/anaconda3/lib/python3.9/site-packages (from spacy<3.6.0,>=3.5.0->zh-core-web-sm==3.5.0) (2.0.8)\n",
      "Requirement already satisfied: pathy>=0.10.0 in /Users/hsiu/opt/anaconda3/lib/python3.9/site-packages (from spacy<3.6.0,>=3.5.0->zh-core-web-sm==3.5.0) (0.10.1)\n",
      "Requirement already satisfied: preshed<3.1.0,>=3.0.2 in /Users/hsiu/opt/anaconda3/lib/python3.9/site-packages (from spacy<3.6.0,>=3.5.0->zh-core-web-sm==3.5.0) (3.0.8)\n",
      "Requirement already satisfied: setuptools in /Users/hsiu/opt/anaconda3/lib/python3.9/site-packages (from spacy<3.6.0,>=3.5.0->zh-core-web-sm==3.5.0) (63.4.1)\n",
      "Requirement already satisfied: typer<0.8.0,>=0.3.0 in /Users/hsiu/opt/anaconda3/lib/python3.9/site-packages (from spacy<3.6.0,>=3.5.0->zh-core-web-sm==3.5.0) (0.7.0)\n",
      "Requirement already satisfied: cymem<2.1.0,>=2.0.2 in /Users/hsiu/opt/anaconda3/lib/python3.9/site-packages (from spacy<3.6.0,>=3.5.0->zh-core-web-sm==3.5.0) (2.0.7)\n",
      "Requirement already satisfied: requests<3.0.0,>=2.13.0 in /Users/hsiu/opt/anaconda3/lib/python3.9/site-packages (from spacy<3.6.0,>=3.5.0->zh-core-web-sm==3.5.0) (2.28.1)\n",
      "Requirement already satisfied: smart-open<7.0.0,>=5.2.1 in /Users/hsiu/opt/anaconda3/lib/python3.9/site-packages (from spacy<3.6.0,>=3.5.0->zh-core-web-sm==3.5.0) (5.2.1)\n",
      "Requirement already satisfied: langcodes<4.0.0,>=3.2.0 in /Users/hsiu/opt/anaconda3/lib/python3.9/site-packages (from spacy<3.6.0,>=3.5.0->zh-core-web-sm==3.5.0) (3.3.0)\n",
      "Requirement already satisfied: packaging>=20.0 in /Users/hsiu/opt/anaconda3/lib/python3.9/site-packages (from spacy<3.6.0,>=3.5.0->zh-core-web-sm==3.5.0) (21.3)\n",
      "Requirement already satisfied: murmurhash<1.1.0,>=0.28.0 in /Users/hsiu/opt/anaconda3/lib/python3.9/site-packages (from spacy<3.6.0,>=3.5.0->zh-core-web-sm==3.5.0) (1.0.9)\n",
      "Requirement already satisfied: thinc<8.2.0,>=8.1.8 in /Users/hsiu/opt/anaconda3/lib/python3.9/site-packages (from spacy<3.6.0,>=3.5.0->zh-core-web-sm==3.5.0) (8.1.10)\n",
      "Requirement already satisfied: numpy>=1.15.0 in /Users/hsiu/opt/anaconda3/lib/python3.9/site-packages (from spacy<3.6.0,>=3.5.0->zh-core-web-sm==3.5.0) (1.21.5)\n",
      "Requirement already satisfied: spacy-loggers<2.0.0,>=1.0.0 in /Users/hsiu/opt/anaconda3/lib/python3.9/site-packages (from spacy<3.6.0,>=3.5.0->zh-core-web-sm==3.5.0) (1.0.4)\n",
      "Requirement already satisfied: wasabi<1.2.0,>=0.9.1 in /Users/hsiu/opt/anaconda3/lib/python3.9/site-packages (from spacy<3.6.0,>=3.5.0->zh-core-web-sm==3.5.0) (1.1.1)\n",
      "Requirement already satisfied: srsly<3.0.0,>=2.4.3 in /Users/hsiu/opt/anaconda3/lib/python3.9/site-packages (from spacy<3.6.0,>=3.5.0->zh-core-web-sm==3.5.0) (2.4.6)\n",
      "Requirement already satisfied: tqdm<5.0.0,>=4.38.0 in /Users/hsiu/opt/anaconda3/lib/python3.9/site-packages (from spacy<3.6.0,>=3.5.0->zh-core-web-sm==3.5.0) (4.64.1)\n",
      "Requirement already satisfied: pydantic!=1.8,!=1.8.1,<1.11.0,>=1.7.4 in /Users/hsiu/opt/anaconda3/lib/python3.9/site-packages (from spacy<3.6.0,>=3.5.0->zh-core-web-sm==3.5.0) (1.10.7)\n",
      "Requirement already satisfied: pyparsing!=3.0.5,>=2.0.2 in /Users/hsiu/opt/anaconda3/lib/python3.9/site-packages (from packaging>=20.0->spacy<3.6.0,>=3.5.0->zh-core-web-sm==3.5.0) (3.0.9)\n",
      "Requirement already satisfied: typing-extensions>=4.2.0 in /Users/hsiu/opt/anaconda3/lib/python3.9/site-packages (from pydantic!=1.8,!=1.8.1,<1.11.0,>=1.7.4->spacy<3.6.0,>=3.5.0->zh-core-web-sm==3.5.0) (4.3.0)\n",
      "Requirement already satisfied: charset-normalizer<3,>=2 in /Users/hsiu/opt/anaconda3/lib/python3.9/site-packages (from requests<3.0.0,>=2.13.0->spacy<3.6.0,>=3.5.0->zh-core-web-sm==3.5.0) (2.0.4)\n",
      "Requirement already satisfied: certifi>=2017.4.17 in /Users/hsiu/opt/anaconda3/lib/python3.9/site-packages (from requests<3.0.0,>=2.13.0->spacy<3.6.0,>=3.5.0->zh-core-web-sm==3.5.0) (2022.9.24)\n",
      "Requirement already satisfied: urllib3<1.27,>=1.21.1 in /Users/hsiu/opt/anaconda3/lib/python3.9/site-packages (from requests<3.0.0,>=2.13.0->spacy<3.6.0,>=3.5.0->zh-core-web-sm==3.5.0) (1.26.11)\n",
      "Requirement already satisfied: idna<4,>=2.5 in /Users/hsiu/opt/anaconda3/lib/python3.9/site-packages (from requests<3.0.0,>=2.13.0->spacy<3.6.0,>=3.5.0->zh-core-web-sm==3.5.0) (3.3)\n",
      "Requirement already satisfied: confection<1.0.0,>=0.0.1 in /Users/hsiu/opt/anaconda3/lib/python3.9/site-packages (from thinc<8.2.0,>=8.1.8->spacy<3.6.0,>=3.5.0->zh-core-web-sm==3.5.0) (0.0.4)\n",
      "Requirement already satisfied: blis<0.8.0,>=0.7.8 in /Users/hsiu/opt/anaconda3/lib/python3.9/site-packages (from thinc<8.2.0,>=8.1.8->spacy<3.6.0,>=3.5.0->zh-core-web-sm==3.5.0) (0.7.9)\n",
      "Requirement already satisfied: click<9.0.0,>=7.1.1 in /Users/hsiu/opt/anaconda3/lib/python3.9/site-packages (from typer<0.8.0,>=0.3.0->spacy<3.6.0,>=3.5.0->zh-core-web-sm==3.5.0) (8.0.4)\n",
      "Requirement already satisfied: MarkupSafe>=0.23 in /Users/hsiu/opt/anaconda3/lib/python3.9/site-packages (from jinja2->spacy<3.6.0,>=3.5.0->zh-core-web-sm==3.5.0) (2.0.1)\n",
      "Installing collected packages: spacy-pkuseg, zh-core-web-sm\n",
      "Successfully installed spacy-pkuseg-0.0.32 zh-core-web-sm-3.5.0\n",
      "\u001b[38;5;2m✔ Download and installation successful\u001b[0m\n",
      "You can now load the package via spacy.load('zh_core_web_sm')\n",
      "Collecting en-core-web-sm==3.5.0\n",
      "  Downloading https://github.com/explosion/spacy-models/releases/download/en_core_web_sm-3.5.0/en_core_web_sm-3.5.0-py3-none-any.whl (12.8 MB)\n",
      "     ━━━━━━━━━━━━━━━━━━━━━━━━━━━━━━━━━━━━━━━ 12.8/12.8 MB 248.9 kB/s eta 0:00:00\n",
      "Requirement already satisfied: spacy<3.6.0,>=3.5.0 in /Users/hsiu/opt/anaconda3/lib/python3.9/site-packages (from en-core-web-sm==3.5.0) (3.5.2)\n",
      "Requirement already satisfied: numpy>=1.15.0 in /Users/hsiu/opt/anaconda3/lib/python3.9/site-packages (from spacy<3.6.0,>=3.5.0->en-core-web-sm==3.5.0) (1.21.5)\n",
      "Requirement already satisfied: langcodes<4.0.0,>=3.2.0 in /Users/hsiu/opt/anaconda3/lib/python3.9/site-packages (from spacy<3.6.0,>=3.5.0->en-core-web-sm==3.5.0) (3.3.0)\n",
      "Requirement already satisfied: wasabi<1.2.0,>=0.9.1 in /Users/hsiu/opt/anaconda3/lib/python3.9/site-packages (from spacy<3.6.0,>=3.5.0->en-core-web-sm==3.5.0) (1.1.1)\n",
      "Requirement already satisfied: pathy>=0.10.0 in /Users/hsiu/opt/anaconda3/lib/python3.9/site-packages (from spacy<3.6.0,>=3.5.0->en-core-web-sm==3.5.0) (0.10.1)\n",
      "Requirement already satisfied: setuptools in /Users/hsiu/opt/anaconda3/lib/python3.9/site-packages (from spacy<3.6.0,>=3.5.0->en-core-web-sm==3.5.0) (63.4.1)\n",
      "Requirement already satisfied: srsly<3.0.0,>=2.4.3 in /Users/hsiu/opt/anaconda3/lib/python3.9/site-packages (from spacy<3.6.0,>=3.5.0->en-core-web-sm==3.5.0) (2.4.6)\n",
      "Requirement already satisfied: spacy-legacy<3.1.0,>=3.0.11 in /Users/hsiu/opt/anaconda3/lib/python3.9/site-packages (from spacy<3.6.0,>=3.5.0->en-core-web-sm==3.5.0) (3.0.12)\n",
      "Requirement already satisfied: catalogue<2.1.0,>=2.0.6 in /Users/hsiu/opt/anaconda3/lib/python3.9/site-packages (from spacy<3.6.0,>=3.5.0->en-core-web-sm==3.5.0) (2.0.8)\n",
      "Requirement already satisfied: thinc<8.2.0,>=8.1.8 in /Users/hsiu/opt/anaconda3/lib/python3.9/site-packages (from spacy<3.6.0,>=3.5.0->en-core-web-sm==3.5.0) (8.1.10)\n",
      "Requirement already satisfied: jinja2 in /Users/hsiu/opt/anaconda3/lib/python3.9/site-packages (from spacy<3.6.0,>=3.5.0->en-core-web-sm==3.5.0) (2.11.3)\n",
      "Requirement already satisfied: cymem<2.1.0,>=2.0.2 in /Users/hsiu/opt/anaconda3/lib/python3.9/site-packages (from spacy<3.6.0,>=3.5.0->en-core-web-sm==3.5.0) (2.0.7)\n",
      "Requirement already satisfied: typer<0.8.0,>=0.3.0 in /Users/hsiu/opt/anaconda3/lib/python3.9/site-packages (from spacy<3.6.0,>=3.5.0->en-core-web-sm==3.5.0) (0.7.0)\n",
      "Requirement already satisfied: packaging>=20.0 in /Users/hsiu/opt/anaconda3/lib/python3.9/site-packages (from spacy<3.6.0,>=3.5.0->en-core-web-sm==3.5.0) (21.3)\n",
      "Requirement already satisfied: tqdm<5.0.0,>=4.38.0 in /Users/hsiu/opt/anaconda3/lib/python3.9/site-packages (from spacy<3.6.0,>=3.5.0->en-core-web-sm==3.5.0) (4.64.1)\n",
      "Requirement already satisfied: smart-open<7.0.0,>=5.2.1 in /Users/hsiu/opt/anaconda3/lib/python3.9/site-packages (from spacy<3.6.0,>=3.5.0->en-core-web-sm==3.5.0) (5.2.1)\n",
      "Requirement already satisfied: requests<3.0.0,>=2.13.0 in /Users/hsiu/opt/anaconda3/lib/python3.9/site-packages (from spacy<3.6.0,>=3.5.0->en-core-web-sm==3.5.0) (2.28.1)\n",
      "Requirement already satisfied: pydantic!=1.8,!=1.8.1,<1.11.0,>=1.7.4 in /Users/hsiu/opt/anaconda3/lib/python3.9/site-packages (from spacy<3.6.0,>=3.5.0->en-core-web-sm==3.5.0) (1.10.7)\n",
      "Requirement already satisfied: spacy-loggers<2.0.0,>=1.0.0 in /Users/hsiu/opt/anaconda3/lib/python3.9/site-packages (from spacy<3.6.0,>=3.5.0->en-core-web-sm==3.5.0) (1.0.4)\n",
      "Requirement already satisfied: murmurhash<1.1.0,>=0.28.0 in /Users/hsiu/opt/anaconda3/lib/python3.9/site-packages (from spacy<3.6.0,>=3.5.0->en-core-web-sm==3.5.0) (1.0.9)\n",
      "Requirement already satisfied: preshed<3.1.0,>=3.0.2 in /Users/hsiu/opt/anaconda3/lib/python3.9/site-packages (from spacy<3.6.0,>=3.5.0->en-core-web-sm==3.5.0) (3.0.8)\n",
      "Requirement already satisfied: pyparsing!=3.0.5,>=2.0.2 in /Users/hsiu/opt/anaconda3/lib/python3.9/site-packages (from packaging>=20.0->spacy<3.6.0,>=3.5.0->en-core-web-sm==3.5.0) (3.0.9)\n",
      "Requirement already satisfied: typing-extensions>=4.2.0 in /Users/hsiu/opt/anaconda3/lib/python3.9/site-packages (from pydantic!=1.8,!=1.8.1,<1.11.0,>=1.7.4->spacy<3.6.0,>=3.5.0->en-core-web-sm==3.5.0) (4.3.0)\n",
      "Requirement already satisfied: urllib3<1.27,>=1.21.1 in /Users/hsiu/opt/anaconda3/lib/python3.9/site-packages (from requests<3.0.0,>=2.13.0->spacy<3.6.0,>=3.5.0->en-core-web-sm==3.5.0) (1.26.11)\n",
      "Requirement already satisfied: certifi>=2017.4.17 in /Users/hsiu/opt/anaconda3/lib/python3.9/site-packages (from requests<3.0.0,>=2.13.0->spacy<3.6.0,>=3.5.0->en-core-web-sm==3.5.0) (2022.9.24)\n",
      "Requirement already satisfied: charset-normalizer<3,>=2 in /Users/hsiu/opt/anaconda3/lib/python3.9/site-packages (from requests<3.0.0,>=2.13.0->spacy<3.6.0,>=3.5.0->en-core-web-sm==3.5.0) (2.0.4)\n",
      "Requirement already satisfied: idna<4,>=2.5 in /Users/hsiu/opt/anaconda3/lib/python3.9/site-packages (from requests<3.0.0,>=2.13.0->spacy<3.6.0,>=3.5.0->en-core-web-sm==3.5.0) (3.3)\n",
      "Requirement already satisfied: confection<1.0.0,>=0.0.1 in /Users/hsiu/opt/anaconda3/lib/python3.9/site-packages (from thinc<8.2.0,>=8.1.8->spacy<3.6.0,>=3.5.0->en-core-web-sm==3.5.0) (0.0.4)\n",
      "Requirement already satisfied: blis<0.8.0,>=0.7.8 in /Users/hsiu/opt/anaconda3/lib/python3.9/site-packages (from thinc<8.2.0,>=8.1.8->spacy<3.6.0,>=3.5.0->en-core-web-sm==3.5.0) (0.7.9)\n",
      "Requirement already satisfied: click<9.0.0,>=7.1.1 in /Users/hsiu/opt/anaconda3/lib/python3.9/site-packages (from typer<0.8.0,>=0.3.0->spacy<3.6.0,>=3.5.0->en-core-web-sm==3.5.0) (8.0.4)\n",
      "Requirement already satisfied: MarkupSafe>=0.23 in /Users/hsiu/opt/anaconda3/lib/python3.9/site-packages (from jinja2->spacy<3.6.0,>=3.5.0->en-core-web-sm==3.5.0) (2.0.1)\n"
     ]
    },
    {
     "name": "stdout",
     "output_type": "stream",
     "text": [
      "Installing collected packages: en-core-web-sm\n",
      "Successfully installed en-core-web-sm-3.5.0\n",
      "\u001b[38;5;2m✔ Download and installation successful\u001b[0m\n",
      "You can now load the package via spacy.load('en_core_web_sm')\n"
     ]
    }
   ],
   "source": [
    "import spacy\n",
    "spacy.cli.download(\"zh_core_web_sm\")\n",
    "spacy.cli.download(\"en_core_web_sm\")\n",
    "\n",
    "nlp_zh = spacy.load(\"zh_core_web_sm\")\n",
    "nlp_en = spacy.load(\"en_core_web_sm\")"
   ]
  },
  {
   "cell_type": "code",
   "execution_count": 5,
   "id": "bb73ca5d",
   "metadata": {},
   "outputs": [],
   "source": [
    "STOPWORDS =  nlp_zh.Defaults.stop_words | nlp_en.Defaults.stop_words | set([\"\\n\", \"\\r\\n\", \"\\t\", \" \", \"\"])\n",
    "\n",
    "for word in STOPWORDS.copy():\n",
    "    STOPWORDS.add(zhconv.convert(word, \"zh-tw\"))"
   ]
  },
  {
   "cell_type": "code",
   "execution_count": 6,
   "id": "e7d63d77",
   "metadata": {},
   "outputs": [],
   "source": [
    "def preprocess_and_tokenize(text, token_min_len = 1, token_max_len = 15, lower = True):\n",
    "    if (lower):\n",
    "        text = text.lower()\n",
    "    text = zhconv.convert(text, \"zh-tw\")\n",
    "    return [\n",
    "        token for token in jieba.cut(text, cut_all = False)\n",
    "        if token_min_len <= len(token) <= token_max_len and token not in STOPWORDS\n",
    "    ]"
   ]
  },
  {
   "cell_type": "code",
   "execution_count": 7,
   "id": "fe84aa3c",
   "metadata": {},
   "outputs": [
    {
     "name": "stdout",
     "output_type": "stream",
     "text": [
      "Parsing zhwiki-20230501-pages-articles-multistream.xml.bz2...\n"
     ]
    },
    {
     "name": "stderr",
     "output_type": "stream",
     "text": [
      "/Users/hsiu/opt/anaconda3/lib/python3.9/site-packages/gensim/utils.py:1332: UserWarning: detected OSX with python3.8+; aliasing chunkize to chunkize_serial\n",
      "  warnings.warn(\"detected %s; aliasing chunkize to chunkize_serial\" % entity)\n"
     ]
    },
    {
     "name": "stdout",
     "output_type": "stream",
     "text": [
      "peak memory: 2102.64 MiB, increment: 1444.09 MiB\n",
      "CPU times: user 11min 15s, sys: 1min 52s, total: 13min 8s\n",
      "Wall time: 15min 21s\n"
     ]
    }
   ],
   "source": [
    "%%time\n",
    "%%memit\n",
    "\n",
    "print(f\"Parsing {ZhWiki}...\")\n",
    "wiki_corpus = WikiCorpus(ZhWiki, token_min_len=1)"
   ]
  },
  {
   "cell_type": "code",
   "execution_count": 8,
   "id": "5a15bb42",
   "metadata": {},
   "outputs": [
    {
     "name": "stdout",
     "output_type": "stream",
     "text": [
      "['歐幾里得', '西元前三世紀的古希臘數學家', '現在被認為是幾何之父', '此畫為拉斐爾的作品', '雅典學院', '数学', '是研究數量', '屬於形式科學的一種', '數學利用抽象化和邏輯推理', '從計數']\n",
      "['蘇格拉底之死', '由雅克', '路易', '大卫所繪', '年', '哲學', '是研究普遍的', '基本问题的学科', '包括存在', '知识']\n",
      "['文學', '在狭义上', '是一种语言艺术', '亦即使用语言文字为手段', '形象化地反映客观社会生活', '表达主观作者思想感情的一种艺术', '文学不仅强调传达思想观念', '更强调传达方式的独特性', '且讲究辞章的美感', '文学']\n"
     ]
    }
   ],
   "source": [
    "g = wiki_corpus.get_texts()\n",
    "print(next(g)[:10])\n",
    "print(next(g)[:10])\n",
    "print(next(g)[:10])"
   ]
  },
  {
   "cell_type": "code",
   "execution_count": 9,
   "id": "4a6e652c",
   "metadata": {},
   "outputs": [
    {
     "name": "stdout",
     "output_type": "stream",
     "text": [
      "[2023-05-11 10:24:06] 已寫入 99999 篇斷詞文章\n",
      "[2023-05-11 10:26:05] 已寫入 199999 篇斷詞文章\n",
      "[2023-05-11 10:29:21] 已寫入 299999 篇斷詞文章\n",
      "[2023-05-11 10:31:46] 已寫入 399999 篇斷詞文章\n"
     ]
    }
   ],
   "source": [
    "WIKI_SEG_TXT = \"wiki_seg.txt\"\n",
    "\n",
    "generator = wiki_corpus.get_texts()\n",
    "\n",
    "with open(WIKI_SEG_TXT, \"w\", encoding='utf-8') as output:\n",
    "    for texts_num, tokens in enumerate(generator):\n",
    "        output.write(\" \".join(tokens) + \"\\n\")\n",
    "\n",
    "        if (texts_num + 1) % 100000 == 0:\n",
    "            print(f\"[{str(datetime.now()):.19}] 已寫入 {texts_num} 篇斷詞文章\")"
   ]
  },
  {
   "cell_type": "code",
   "execution_count": 10,
   "id": "5d10c17e",
   "metadata": {},
   "outputs": [
    {
     "name": "stdout",
     "output_type": "stream",
     "text": [
      "Use 8 workers to train Word2Vec (dim=300)\n",
      "CPU times: user 29min 2s, sys: 1min 59s, total: 31min 1s\n",
      "Wall time: 7min 56s\n"
     ]
    }
   ],
   "source": [
    "%%time\n",
    "\n",
    "from gensim.models import word2vec\n",
    "import multiprocessing\n",
    "\n",
    "max_cpu_counts = multiprocessing.cpu_count()\n",
    "word_dim_size = 300\n",
    "print(f\"Use {max_cpu_counts} workers to train Word2Vec (dim={word_dim_size})\")\n",
    "\n",
    "\n",
    "sentences = word2vec.LineSentence(WIKI_SEG_TXT)\n",
    "\n",
    "model = word2vec.Word2Vec(sentences, vector_size=word_dim_size, workers=max_cpu_counts)\n",
    "\n",
    "output_model = f\"word2vec.zh.{word_dim_size}.model\"\n",
    "model.save(output_model)"
   ]
  },
  {
   "cell_type": "code",
   "execution_count": 11,
   "id": "47afb452",
   "metadata": {},
   "outputs": [
    {
     "name": "stdout",
     "output_type": "stream",
     "text": [
      "word2vec.zh.300.model                word2vec.zh.300.model.wv.vectors.npy\r\n",
      "word2vec.zh.300.model.syn1neg.npy\r\n"
     ]
    }
   ],
   "source": [
    "! ls word2vec.zh*"
   ]
  },
  {
   "cell_type": "code",
   "execution_count": 12,
   "id": "33465e74",
   "metadata": {},
   "outputs": [
    {
     "name": "stdout",
     "output_type": "stream",
     "text": [
      " 57M\tword2vec.zh.300.model\r\n",
      "1.8G\tword2vec.zh.300.model.syn1neg.npy\r\n",
      "1.8G\tword2vec.zh.300.model.wv.vectors.npy\r\n"
     ]
    }
   ],
   "source": [
    "! du -sh word2vec.zh*"
   ]
  },
  {
   "cell_type": "code",
   "execution_count": 13,
   "id": "d88a41bf",
   "metadata": {},
   "outputs": [
    {
     "name": "stdout",
     "output_type": "stream",
     "text": [
      "(1578559, 300)\n"
     ]
    },
    {
     "data": {
      "text/plain": [
       "array([[-1.7076457e+00,  1.7358593e+00, -3.4208825e-01, ...,\n",
       "         6.5092337e-01,  6.4788365e-01,  2.2596502e-01],\n",
       "       [-8.6641109e-01,  1.0497972e+00,  4.8340130e-01, ...,\n",
       "         2.2776024e-01, -5.6819314e-01,  3.1535363e-01],\n",
       "       [-1.3289380e+00,  1.2796842e+00,  3.3163098e-01, ...,\n",
       "         6.8806994e-01, -4.8488963e-01,  5.2340209e-01],\n",
       "       ...,\n",
       "       [-3.0601058e-02,  5.1672857e-02,  1.3539110e-02, ...,\n",
       "        -1.4815503e-02,  5.7537202e-02, -1.9980976e-02],\n",
       "       [-3.5888821e-02,  4.1780226e-02,  6.7084683e-03, ...,\n",
       "        -2.1981372e-02,  7.2206617e-03, -9.2937918e-03],\n",
       "       [-4.5324679e-02, -1.6357239e-02, -9.1987170e-02, ...,\n",
       "         4.6356138e-02, -4.8235804e-03,  1.1394625e-03]], dtype=float32)"
      ]
     },
     "execution_count": 13,
     "metadata": {},
     "output_type": "execute_result"
    }
   ],
   "source": [
    "print(model.wv.vectors.shape)\n",
    "model.wv.vectors"
   ]
  },
  {
   "cell_type": "code",
   "execution_count": 14,
   "id": "954454aa",
   "metadata": {
    "scrolled": true
   },
   "outputs": [
    {
     "name": "stdout",
     "output_type": "stream",
     "text": [
      "(300,)\n"
     ]
    },
    {
     "data": {
      "text/plain": [
       "array([ 0.53049093,  0.01827557,  0.2647456 ,  0.30384144,  0.84717506,\n",
       "       -0.3160529 , -0.84586823,  0.37918493, -0.4042048 ,  0.06286512,\n",
       "       -0.43317407,  0.15615006,  0.1487516 ,  0.7061684 , -0.9255093 ,\n",
       "       -0.9253154 , -0.759502  ,  0.18732086, -0.22279754, -1.3600307 ,\n",
       "       -0.13007402,  0.33115828,  0.2514567 ,  0.3103663 ,  0.5041195 ,\n",
       "        0.5105871 ,  0.275075  , -0.99158734, -0.8061154 ,  0.60949665,\n",
       "       -0.97135323, -0.36245635,  0.5228062 , -0.9929437 , -0.3768951 ,\n",
       "       -0.27796376,  0.32308862,  0.17225985, -0.15119103, -0.5225684 ,\n",
       "        0.6778689 ,  0.5649924 , -0.4203485 , -0.3324206 , -0.8110069 ,\n",
       "        0.04588133, -0.01164059, -0.11581735, -0.9595325 ,  0.33367655,\n",
       "       -0.01092827, -0.14399321, -0.29740143,  0.47526693,  0.5011093 ,\n",
       "        0.235042  , -0.2750302 , -0.342591  , -1.0644412 , -0.2491959 ,\n",
       "        0.39573318, -0.83013433, -0.3680273 ,  0.0420828 , -0.2031228 ,\n",
       "       -1.1320168 , -0.2697187 , -1.1850203 , -0.10691174,  0.47327211,\n",
       "        0.04985294,  0.31437925, -1.3768425 , -0.37904128, -1.008573  ,\n",
       "        0.33481294, -0.97082317, -1.0024755 , -0.01487439,  1.0829557 ,\n",
       "        0.7297596 ,  0.4892838 ,  1.4618275 , -0.7271081 , -0.5326963 ,\n",
       "       -0.0333724 , -0.13967465, -0.00582276,  0.4517425 , -0.29619384,\n",
       "       -0.63548595,  0.34462515,  0.5414898 , -0.5122757 , -0.06329369,\n",
       "       -0.09100797,  0.5191546 , -0.35368556, -0.06916162, -0.45680457,\n",
       "       -0.4875684 ,  0.40388146, -0.33278075, -0.44709337,  0.74684584,\n",
       "        0.33935574, -0.55299693,  1.1150037 ,  0.10809211,  0.09001461,\n",
       "       -0.22851068, -0.02052877,  0.24889873, -0.24746878, -0.5090913 ,\n",
       "       -0.52274084, -0.18253909, -1.7414907 , -0.16132948,  0.15242569,\n",
       "       -0.10680762, -0.8107142 ,  0.90064895,  0.36319458,  0.5400026 ,\n",
       "       -0.29428685,  1.4657035 ,  0.96297276, -0.6350774 , -1.0664964 ,\n",
       "       -0.4838113 , -0.5127397 ,  0.30626425,  0.6167893 , -0.03066489,\n",
       "       -0.5009219 ,  0.20380922,  0.7440737 ,  0.4109395 ,  0.34708786,\n",
       "       -0.45262057,  0.45572808,  1.162146  , -0.44306034,  0.07630139,\n",
       "        0.22946636,  0.7181145 ,  1.5910239 , -1.4165311 , -0.23245263,\n",
       "        0.86262316,  0.4872838 , -0.05716793,  0.8054934 ,  0.81855303,\n",
       "       -0.15101233,  0.86404717,  0.54152834, -0.03479534,  0.51215094,\n",
       "       -0.09048879, -0.37978098, -0.11368597, -0.49410537, -0.36505482,\n",
       "       -0.23182382,  0.65914726, -1.253035  , -0.32180598,  0.983649  ,\n",
       "       -0.17177604, -0.3976528 , -0.3229478 ,  0.16697656, -0.14475513,\n",
       "       -0.7807471 , -0.19789977, -0.2398905 , -0.29893902,  1.0730306 ,\n",
       "       -0.97337365, -0.37673706,  0.1785937 ,  0.16206394,  0.679799  ,\n",
       "       -0.30639303, -0.4871192 ,  0.39067274, -0.68711966,  0.18139838,\n",
       "       -0.46292126, -0.13591778,  0.04551313, -0.11340749, -0.11850695,\n",
       "        0.76077676, -0.18340124,  0.29157546, -0.41435534,  0.23486648,\n",
       "       -0.0679468 , -0.02076335,  0.0474546 , -0.06975758, -0.3036782 ,\n",
       "        0.37350658, -0.3623464 , -0.15291099, -0.55415505,  0.5714524 ,\n",
       "        0.43852907, -0.02099379, -0.16021873,  0.4110393 ,  0.93485826,\n",
       "       -0.26107356, -0.5307362 ,  0.8673997 ,  0.30624995,  0.4315117 ,\n",
       "       -0.4318577 , -0.5225519 ,  0.21700108, -0.3102976 ,  0.00407482,\n",
       "       -0.15048108,  0.14482383, -0.26393777,  0.5962042 , -0.6109329 ,\n",
       "        0.4652527 ,  1.2238517 , -0.20281705,  0.30381247,  0.2396513 ,\n",
       "        0.13623989, -0.3733277 , -0.6838325 , -0.3936991 , -0.75591564,\n",
       "       -0.6452454 , -0.41884226, -0.71789587,  0.4270715 , -0.09535728,\n",
       "       -0.12868445,  0.16910073,  1.2771387 , -0.6890591 , -0.86472946,\n",
       "       -0.40124366,  0.00322738, -0.13320011, -0.616798  , -0.23373652,\n",
       "       -0.3745573 , -0.6844932 , -0.17654343,  0.26301163,  0.84909564,\n",
       "       -0.1140709 , -0.1709646 ,  0.39214742,  0.6337048 ,  0.43279657,\n",
       "       -0.22803631,  0.5762997 , -0.16677591,  0.17133617, -0.7461285 ,\n",
       "       -1.129639  ,  0.74020505,  0.47633585, -1.0674814 ,  0.4816883 ,\n",
       "        0.46200457, -0.55217123, -0.85441077,  0.27198184, -0.06489081,\n",
       "       -0.02617261, -0.2510625 , -0.10067189, -0.9170585 , -0.44093183,\n",
       "       -0.2468156 , -0.12921627, -1.377922  , -0.08566579, -0.77930725,\n",
       "       -0.28645232,  0.09937597, -0.44404188,  0.27886468, -0.94051254,\n",
       "       -0.27831507,  0.5852038 ,  0.3227011 ,  0.45401216, -0.16322984],\n",
       "      dtype=float32)"
      ]
     },
     "execution_count": 14,
     "metadata": {},
     "output_type": "execute_result"
    }
   ],
   "source": [
    "vec = model.wv['數學家']\n",
    "print(vec.shape)\n",
    "vec"
   ]
  },
  {
   "cell_type": "code",
   "execution_count": 15,
   "id": "d3e36ff5",
   "metadata": {},
   "outputs": [
    {
     "name": "stdout",
     "output_type": "stream",
     "text": [
      "\"Key '這肯定沒見過 ' not present\"\n"
     ]
    }
   ],
   "source": [
    "word = \"這肯定沒見過 \"\n",
    "\n",
    "try:\n",
    "    vec = model.wv[word]\n",
    "except KeyError as e:\n",
    "    print(e)"
   ]
  },
  {
   "cell_type": "code",
   "execution_count": 16,
   "id": "dd6348e0",
   "metadata": {},
   "outputs": [
    {
     "data": {
      "text/plain": [
       "[('飲品', 0.9133813977241516),\n",
       " ('炸雞', 0.8783719539642334),\n",
       " ('冰淇淋', 0.8746067881584167),\n",
       " ('服飾', 0.8678401708602905),\n",
       " ('化妝品', 0.8615073561668396),\n",
       " ('零食', 0.8536527156829834),\n",
       " ('啤酒', 0.8466242551803589),\n",
       " ('珠寶', 0.8449875116348267),\n",
       " ('電子產品', 0.8367608785629272),\n",
       " ('食品', 0.8348352313041687)]"
      ]
     },
     "execution_count": 16,
     "metadata": {},
     "output_type": "execute_result"
    }
   ],
   "source": [
    "model.wv.most_similar(\"飲料\", topn=10)"
   ]
  },
  {
   "cell_type": "code",
   "execution_count": 17,
   "id": "e45815c7",
   "metadata": {},
   "outputs": [
    {
     "data": {
      "text/plain": [
       "[('truck', 0.7824944257736206),\n",
       " ('brake', 0.7262388467788696),\n",
       " ('貨卡車', 0.716031551361084),\n",
       " ('motorcycle', 0.7159311771392822),\n",
       " ('motor', 0.7153626680374146),\n",
       " ('volkswagen', 0.7126927971839905),\n",
       " ('hybrid', 0.7122430205345154),\n",
       " ('saloon', 0.7067892551422119),\n",
       " ('cadillac', 0.7067204713821411),\n",
       " ('convertible', 0.7063345313072205)]"
      ]
     },
     "execution_count": 17,
     "metadata": {},
     "output_type": "execute_result"
    }
   ],
   "source": [
    "model.wv.most_similar(\"car\")"
   ]
  },
  {
   "cell_type": "code",
   "execution_count": 18,
   "id": "60f9946e",
   "metadata": {},
   "outputs": [
    {
     "data": {
      "text/plain": [
       "[('instagram', 0.879693329334259),\n",
       " ('臉書', 0.8340373039245605),\n",
       " ('專頁', 0.7984201312065125),\n",
       " ('twitter', 0.779519259929657),\n",
       " ('xanga', 0.7731849551200867),\n",
       " ('facebook專頁', 0.7496058344841003),\n",
       " ('myspace', 0.7484684586524963),\n",
       " ('微博', 0.746212363243103),\n",
       " ('推特', 0.7453634142875671),\n",
       " ('新浪微博', 0.7418176531791687)]"
      ]
     },
     "execution_count": 18,
     "metadata": {},
     "output_type": "execute_result"
    }
   ],
   "source": [
    "model.wv.most_similar(\"facebook\")"
   ]
  },
  {
   "cell_type": "code",
   "execution_count": 19,
   "id": "1be50812",
   "metadata": {},
   "outputs": [
    {
     "data": {
      "text/plain": [
       "[('恐嚇', 0.8686190843582153),\n",
       " ('盜竊', 0.8680432438850403),\n",
       " ('販毒', 0.8651722073554993),\n",
       " ('性騷擾', 0.8630328178405762),\n",
       " ('洗錢', 0.856837272644043),\n",
       " ('脅迫', 0.851883590221405),\n",
       " ('毆打', 0.848781943321228),\n",
       " ('的質疑', 0.8473358154296875),\n",
       " ('欺詐', 0.846764326095581),\n",
       " ('搶劫', 0.8438825607299805)]"
      ]
     },
     "execution_count": 19,
     "metadata": {},
     "output_type": "execute_result"
    }
   ],
   "source": [
    "model.wv.most_similar(\"詐欺\")"
   ]
  },
  {
   "cell_type": "code",
   "execution_count": 20,
   "id": "0402252c",
   "metadata": {},
   "outputs": [
    {
     "data": {
      "text/plain": [
       "[('年內', 0.8128535151481628),\n",
       " ('總值', 0.8031351566314697),\n",
       " ('據了解', 0.7691568732261658),\n",
       " ('卻在', 0.7609128355979919),\n",
       " ('耗資超過', 0.7589302659034729),\n",
       " ('鑑於', 0.7558416128158569),\n",
       " ('聯盟於', 0.751262366771698),\n",
       " ('億台幣', 0.7507293820381165),\n",
       " ('億美金', 0.74944007396698),\n",
       " ('往後', 0.7488248348236084)]"
      ]
     },
     "execution_count": 20,
     "metadata": {},
     "output_type": "execute_result"
    }
   ],
   "source": [
    "model.wv.most_similar(\"合約\")"
   ]
  },
  {
   "cell_type": "code",
   "execution_count": 21,
   "id": "5682716e",
   "metadata": {},
   "outputs": [
    {
     "data": {
      "text/plain": [
       "0.5377023"
      ]
     },
     "execution_count": 21,
     "metadata": {},
     "output_type": "execute_result"
    }
   ],
   "source": [
    "model.wv.similarity(\"連結\", \"鏈結\")"
   ]
  },
  {
   "cell_type": "code",
   "execution_count": 22,
   "id": "f196327c",
   "metadata": {},
   "outputs": [
    {
     "data": {
      "text/plain": [
       "0.30575657"
      ]
     },
     "execution_count": 22,
     "metadata": {},
     "output_type": "execute_result"
    }
   ],
   "source": [
    "model.wv.similarity(\"連結\", \"陰天\")"
   ]
  },
  {
   "cell_type": "code",
   "execution_count": 23,
   "id": "f1c56d8f",
   "metadata": {},
   "outputs": [
    {
     "name": "stdout",
     "output_type": "stream",
     "text": [
      "Loading word2vec.zh.300.model...\n"
     ]
    }
   ],
   "source": [
    "print(f\"Loading {output_model}...\")\n",
    "new_model = word2vec.Word2Vec.load(output_model)"
   ]
  },
  {
   "cell_type": "code",
   "execution_count": 24,
   "id": "99c15a6f",
   "metadata": {},
   "outputs": [
    {
     "data": {
      "text/plain": [
       "True"
      ]
     },
     "execution_count": 24,
     "metadata": {},
     "output_type": "execute_result"
    }
   ],
   "source": [
    "model.wv.similarity(\"連結\", \"陰天\") == new_model.wv.similarity(\"連結\", \"陰天\")"
   ]
  }
 ],
 "metadata": {
  "kernelspec": {
   "display_name": "Python 3 (ipykernel)",
   "language": "python",
   "name": "python3"
  },
  "language_info": {
   "codemirror_mode": {
    "name": "ipython",
    "version": 3
   },
   "file_extension": ".py",
   "mimetype": "text/x-python",
   "name": "python",
   "nbconvert_exporter": "python",
   "pygments_lexer": "ipython3",
   "version": "3.9.13"
  }
 },
 "nbformat": 4,
 "nbformat_minor": 5
}
