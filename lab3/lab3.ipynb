{
  "nbformat": 4,
  "nbformat_minor": 0,
  "metadata": {
    "colab": {
      "provenance": []
    },
    "kernelspec": {
      "name": "python3",
      "display_name": "Python 3"
    }
  },
  "cells": [
    {
      "cell_type": "markdown",
      "metadata": {
        "id": "SgNZTjrhcHa0"
      },
      "source": [
        "## Lab#3, NLP@CGU Spring 2023\n",
        "\n",
        "### This is due on 2023/03/20 16:00, commit to your github as a PDF (lab3.pdf) (File>Print>Save as PDF). \n",
        "\n",
        "#### IMPORTANT: After copying this notebook to your Google Drive, please paste a link to it below. To get a publicly-accessible link, hit the *Share* button at the top right, then click \"Get shareable link\" and copy over the result. If you fail to do this, you will receive no credit for this lab!\n",
        "\n",
        "***LINK: *paste your link here****\n",
        "####https://colab.research.google.com/drive/1yqAWu_zMBFsF3jQuZWREu3noG3_NBQbo?usp=sharing"
      ]
    },
    {
      "cell_type": "markdown",
      "metadata": {
        "id": "hpg8eU9wNBci"
      },
      "source": [
        "**Student ID**: b0928024\n",
        "\n",
        "**Name**:莊靜修\n",
        "\n"
      ]
    },
    {
      "cell_type": "markdown",
      "metadata": {
        "id": "r1_cCBOwfPxI"
      },
      "source": [
        "##Question 1 (100 points)\n",
        "Implementing Yahoo Movies Crawler.\n",
        "\n",
        "1. Design a Yahoo! Movie Crawler.\n",
        "2. Crawl all the movie information listed in movie_intheaters page\n",
        "3. The more movie data crawled, the higher the score\n",
        "\n",
        "---"
      ]
    },
    {
      "cell_type": "markdown",
      "source": [],
      "metadata": {
        "id": "STVNzF0frsX8"
      }
    },
    {
      "cell_type": "code",
      "metadata": {
        "id": "W9Fm6AQJQDFa",
        "colab": {
          "base_uri": "https://localhost:8080/"
        },
        "outputId": "133cec65-72b1-4439-b84b-cf953700680e"
      },
      "source": [
        "import requests\n",
        "import re\n",
        "from bs4 import BeautifulSoup\n",
        "\n",
        "Y_MOVIE_URL = \"https://movies.yahoo.com.tw/movie_intheaters.html\"\n",
        "\n",
        "# YOUR CODE HERE! \n",
        "# IMPLEMENTIG YAHOO MOVIES CRAWLER\n",
        "\n",
        "class MovieCrawler(object):\n",
        "\n",
        "    def __init__(self):\n",
        "      self.movies = []\n",
        "\n",
        "    \n",
        "    def get_movies(self, page_url):\n",
        "      try:\n",
        "        resp = requests.get(page_url)\n",
        "      except:\n",
        "        resp = None\n",
        "\n",
        "      if resp and resp.status_code == 200:\n",
        "        soup = BeautifulSoup(resp.text, 'html.parser')\n",
        "        mov_list = soup.find_all(\"div\", class_ = \"release_info_text\")\n",
        "        \n",
        "        for mov in mov_list:\n",
        "          temp = {}\n",
        "\n",
        "          ch_name = mov.find(\"div\", class_ = \"release_movie_name\").find(\"a\")\n",
        "          temp[\"ch_name\"] = ch_name.text[19: ]\n",
        "\n",
        "          en_name = mov.find(\"div\", class_ = \"release_movie_name\").find(\"div\", class_ = \"en\").find(\"a\")\n",
        "          temp[\"en_name\"] = en_name.text[21: ]\n",
        "\n",
        "          movie_url = ch_name[\"href\"]\n",
        "          temp[\"movie_url\"] = movie_url\n",
        "        \n",
        "          release_date = mov.find(\"div\", class_ = \"release_movie_time\")\n",
        "          t = \"\"\n",
        "          for n in release_date.text:\n",
        "            if (n not in (\"\\n\", \" \")):\n",
        "              t += n\n",
        "          temp[\"release_date\"] = t\n",
        "\n",
        "          intro = mov.find(\"div\", class_ = \"release_text\").find(\"span\")\n",
        "          temp[\"intro\"] = intro.text\n",
        "\n",
        "          self.movies.append(temp)\n",
        "\n",
        "      return self.movies\n",
        "\n",
        "# for page in range(1, 9):\n",
        "  \n",
        "# # DO NOT MODIFY THE VARIABLES\n",
        "crawler = MovieCrawler()\n",
        "movies = crawler.get_movies(Y_MOVIE_URL)\n",
        "\n",
        "# # THE RESULTS : AS THE FOLLOWING SECTION\n",
        "# # {'ch_name', 'en_name', 'movie_url', 'release_date', 'intro'}\n",
        "# print(len(movies))\n",
        "print(*movies, sep=\"\\n\")"
      ],
      "execution_count": 37,
      "outputs": [
        {
          "output_type": "stream",
          "name": "stdout",
          "text": [
            "{'ch_name': '配樂大師顏尼歐', 'en_name': 'Ennio: The Maestro', 'movie_url': 'https://movies.yahoo.com.tw/movieinfo_main/%E9%85%8D%E6%A8%82%E5%A4%A7%E5%B8%AB%E9%A1%8F%E5%B0%BC%E6%AD%90-ennio-the-maestro-14413', 'release_date': '上映日期：2023-03-17', 'intro': '\\n                  ★義大利奧斯卡大衛獎最佳紀錄片、最佳剪輯、最佳音效三項大獎\\r\\n★義大利國家影評協會年度銀絲帶獎\\r\\n★義大利巴里國際影展最佳導演\\r\\n★加爾各答國際邪典電影節最佳紀錄片\\n\\r\\n他是最具影響力的音樂家，\\r\\n2座奧斯卡獎得主，500多首令人難忘的電影配樂家…\\n\\r\\n《配樂大師顏尼歐》是全球最知名和受人喜愛的音樂大師顏尼歐莫利克奈的傳記電影。電影製作歷時5年、橫跨歐美進行拍攝，透過音樂和檔案片段講述了一代音樂巨匠莫利克奈的人生故事和音樂奇遇，並揭露其鮮為人知一面：例如他對西洋棋的熱愛，以及與他的音樂有某種神秘的關聯。片中除揭示他音樂作品的靈感來源，也展現他對音樂的純粹熱愛，以及不斷嘗試的使命感，成就了音樂發明的天賦。\\n\\r\\n顏尼歐莫利克奈是20世紀最具影響力和最多產的音樂家之一，兩項奧斯卡獎的獲得者，以及500多首令人難忘的電影配樂的作曲家，本片則堪稱是他最完整肖像電影。奧斯卡導演托納多雷片中訪問了包括與莫利克奈合作過的王家衛、昆汀塔倫蒂諾、納多托魯奇、克林伊斯威特及布魯斯史普林斯汀等70多位世界頂級電影、音樂大師及藝術家，再加上電影場景、音樂以及歷史影像，完整呈現顏尼歐莫利克奈一生的全貌。\\n                '}\n",
            "{'ch_name': '熊蓋毒', 'en_name': 'Cocaine Bear', 'movie_url': 'https://movies.yahoo.com.tw/movieinfo_main/%E7%86%8A%E8%93%8B%E6%AF%92-cocaine-bear-14462', 'release_date': '上映日期：2023-03-17', 'intro': '\\n                  故事靈感來自發生在1985年的真實事件，一名毒販的飛機失事墜機，遺失了一批古柯鹼，結果被一隻黑熊吃掉。這部劇情既荒誕又瘋狂的喜劇片，故事描述一群警察、罪犯、遊客和青少年全都聚集在美國喬治亞州的一座樹林，樹林中有一隻將近230公斤重的頂級掠食者/黑熊，吞食了一大堆古柯鹼，導致牠野性大發、大開殺戒，結果真的是血流成河。 \\n\\r\\n《熊蓋毒》一片的演員陣容包括凱莉羅素（諜報影集《冷戰諜夢》）、小歐席亞傑克森（《衝出康普頓》）、克利斯汀康佛瑞詹寧（奇幻影集《鹿角男孩》）、艾登艾倫瑞克（《星際大戰外傳：韓索羅》）、傑西泰勒費格遜（喜劇影集《摩登家庭》）、布魯克琳普林斯（《歡迎光臨奇幻城堡》）、小伊塞亞維特洛克（《黑色黨徒》）、克里斯多夫黑維爾（HBO影集《冰與火之歌：權力遊戲》）、漢娜霍克史崔（《霹靂嬌娃》）、亞倫哈勒戴（HBO影集《利器》）以及艾美獎得主瑪果麥汀達爾（諜報影集《冷戰諜夢》）和艾美獎得主雷里歐塔（《四海好傢伙》）。\\n\\r\\n《熊蓋毒》一片的導演是伊莉莎白班克斯（《霹靂嬌娃》、《歌喉讚2》），編劇是吉米沃頓（《辣手保姆2：女王蜂》），製片是奧斯卡獎得主菲爾洛德與克里斯米勒（《蜘蛛人：新宇宙》、《米家大戰機器人》）；Brownstone製作公司的伊莉莎白班克斯和麥克斯漢德爾曼（《歌喉讚》系列）以及艾迪特亞蘇德（《絕地救援》）；Jurassic Party製作公司的布萊恩杜菲爾德（《青春愛爆炸》）；以及洛德與米勒的阿迪亞蘇德（《絕地救援》）。執行製片則是羅賓莫奇費西契拉、艾利森史摩爾以及妮琪拜達。\\n                '}\n",
            "{'ch_name': '若愛重來', 'en_name': 'Marriages', 'movie_url': 'https://movies.yahoo.com.tw/movieinfo_main/%E8%8B%A5%E6%84%9B%E9%87%8D%E4%BE%86-marriages-14701', 'release_date': '上映日期：2023-03-17', 'intro': '\\n                  ★賽博台客搖滾樂團 美秀集團 ★重磅合作電影主題曲〈戀人〉\\r\\n★義大利奧斯卡金獎編劇《完美陌生人》導演 保羅克斯泰拉 最新力作\\n\\r\\n你是否曾經想過，自己多年的婚姻突然被宣判無效？在義大利一座小鎮上就有四對夫妻遇到這樣荒謬的事！因為他們的婚姻都是被一名不合法的牧師公證的。\\n\\r\\n在婚姻無效後，單親媽媽薩拉（雅柏拉安吉歐琳 飾）帶著兒子獨自生活，卻與前夫維多（法比歐佛洛 飾）再生愛苗？事業女強人寶拉（克勞迪婭潘多爾菲 飾）的老公安德利亞（菲力浦尼古諾 飾）一心想與她有愛的結晶，寶拉卻在家庭與事業間搖擺不定；維奧拉（克勞蒂亞潔里尼 飾）與吉婭達（卡蘿妮娜柯森堤 飾）是多年好友，兩對夫妻就連蜜月都形影不離，看似和諧的四人卻暗藏著不可告人的秘密……\\n\\r\\n當婚姻遇到不可抗力之因素，關係的天平即將失衡，四對夫妻會選擇再度牽起彼此的手嗎？還是以此為理由離開對方呢？\\n                '}\n",
            "{'ch_name': '無人相信的真相', 'en_name': 'La syndicaliste', 'movie_url': 'https://movies.yahoo.com.tw/movieinfo_main/%E7%84%A1%E4%BA%BA%E7%9B%B8%E4%BF%A1%E7%9A%84%E7%9C%9F%E7%9B%B8-la-syndicaliste-14814', 'release_date': '上映日期：2023-03-17', 'intro': '\\n                  她是最大受害者\\u3000也是唯一嫌疑犯\\n\\r\\n本片改編自莫琳嘉內（伊莎貝雨蓓飾）的真實故事，她是法國一家跨國核電廠的工會代表。因揭發法國核工業的極密交易案而成為了吹哨者。她隻身與世界、政府及業界高官奮戰，竭盡全力揭露醜聞並捍衛五萬多名工會成員的飯碗。\\n\\r\\n然而某日，當她在家中遭到暴力襲擊後，生活開始天翻地覆。案件調查因為敏感議題而不斷遭到施壓，更讓原本的受害者莫琳嘉內頓時之間成為了自導自演的嫌疑犯！\\n                '}\n",
            "{'ch_name': '闇黑對決', 'en_name': \"The Devil's Deal\", 'movie_url': 'https://movies.yahoo.com.tw/movieinfo_main/%E9%97%87%E9%BB%91%E5%B0%8D%E6%B1%BA-the-devils-deal-14846', 'release_date': '上映日期：2023-03-17', 'intro': '\\n                  ★《我只是個計程車司機》製作人X《犯罪都市》製作團隊攜手打造犯罪鉅獻！\\r\\n★《財閥家的小兒子》李星民X《無間對決》趙震雄鬥智耍狠，為名利不擇手段！\\r\\n★ 第25屆加拿大奇幻電影節 正式入選\\r\\n★ 第41屆美國夏威夷國際影展 正式入選\\n\\r\\n1992年，國會議員候選人海雄（趙震雄 飾）想結束跌至谷底的政治人生。海雄原本確信自己有望當選這屆的國會議員，卻慘遭能動搖政界的實權者順泰（李星民 飾）捨棄，在地區提名中落敗。\\n\\r\\n為了推翻由順泰所策劃的選戰，海雄取得了有關釜山地區再開發計畫的機密文件。且在黑道老大弼道（金武烈 飾）的協助下，海雄籌備好選舉經費，以無黨籍的身分再次投入選戰，勢如破竹！\\n\\r\\n而順泰得知了海雄擁有機密文件一事後，便決定將海雄逼上絕路……足以撼動大韓民國的祕密文件，推翻這場選戰的傢伙將顛覆整個國家！\\n                '}\n",
            "{'ch_name': '噩夢輓歌 4K數位修復版', 'en_name': 'Requiem For A Dream', 'movie_url': 'https://movies.yahoo.com.tw/movieinfo_main/%E5%99%A9%E5%A4%A2%E8%BC%93%E6%AD%8C-4K%E6%95%B8%E4%BD%8D%E4%BF%AE%E5%BE%A9%E7%89%88-requiem-for-a-dream-14847', 'release_date': '上映日期：2023-03-17', 'intro': '\\n                  ★ 《黑天鵝》《我的鯨魚老爸》金獎名導成名代表作\\r\\n★ 《大法師》奧斯卡影后艾倫鮑絲汀再創演技新巔峰\\r\\n★ 《魔比斯》傑瑞德雷托、《捍衛戰士：獨行俠》珍妮佛康納莉超尺度演出\\r\\n★ 2001 奧斯卡金像獎 最佳女主角 入圍\\r\\n★ 2001 金球獎 戲劇類電影最佳女主角 入圍\\r\\n★ 2001 美國電影學會獎 年度十大電影\\r\\n★ 獲得全球近40個獎項肯定，網路流傳「十大禁片」之一\\r\\n★ 對藥物成癮者心理狀態描寫最細膩、最驚世駭俗的電影\\r\\n★ 全球最大、最具指標性電影網 IMDb 均分8.3高分神作，名列影史排名第85名佳片\\n\\r\\n寡婦莎拉（艾倫鮑絲汀 飾）夢想穿著年輕時的紅洋裝上電視，於是決定靠藥物來瘦身。與此同時，她的兒子哈利（傑瑞德雷托 飾）和朋友泰隆（馬龍韋恩斯 飾）希望透過販售海洛因致富，哈利的女友瑪麗安（珍妮佛康納莉 飾）也加入他們的計畫。這時四人還不知道，藥物將使他們的人生走向不可挽回的境地……。\\n                '}\n",
            "{'ch_name': '人體動物圖鑑：烏龜的殼其實是肋骨', 'en_name': 'Turtle’s Shell is a Human’s Ribs', 'movie_url': 'https://movies.yahoo.com.tw/movieinfo_main/%E4%BA%BA%E9%AB%94%E5%8B%95%E7%89%A9%E5%9C%96%E9%91%91-%E7%83%8F%E9%BE%9C%E7%9A%84%E6%AE%BC%E5%85%B6%E5%AF%A6%E6%98%AF%E8%82%8B%E9%AA%A8-turtles-shell-is-a-humans-ribs-14856', 'release_date': '上映日期：2023-03-17', 'intro': '\\n                  ★腦洞大開超獵奇動畫！改編川崎悟司的暢銷科普書《超獵奇！人體動物圖鑑：烏龜的殼其實是肋骨》，台灣由三采文化發行。\\n\\r\\n骨頭變了，世界就變了。\\r\\n這是高中生與他的肋骨，衝突與成長的故事。\\n\\r\\n龜田烏龜郎是一名普通的高二學生。\\r\\n隱藏在肋骨下的真實感情，與只能與同班同學青蛙川蛙隆一起分享，度過平淡的日子。\\n\\r\\n他們在學校階級最底層的日常生活，完全沒有希望。\\r\\n直到那一天，出現了不一樣的反轉！\\n                '}\n",
            "{'ch_name': '流水落花', 'en_name': 'Lost Love', 'movie_url': 'https://movies.yahoo.com.tw/movieinfo_main/%E6%B5%81%E6%B0%B4%E8%90%BD%E8%8A%B1-lost-love-14874', 'release_date': '上映日期：2023-03-17', 'intro': '\\n                  ★本屆香港電影金像獎最佳女主角、最佳服裝造型設計、最佳原創電影歌曲三項大獎提名！\\r\\n★第29屆《香港電影評論學會大獎》最佳女演員！\\r\\n★影視歌三棲全能天后鄭秀文零片酬力挺感動演出！\\r\\n★2022《香港亞洲電影節》閉幕影片 \\n\\r\\n我不是你的媽，但這是你的家\\n\\r\\n一個完整的家庭，需要的是緊密相連的血緣，還是愛與陪伴？3年前喪子的夫妻陳天美(鄭秀文 飾)與何彬(陸駿光 飾)，困窘的經濟狀況與無處發洩的母愛，讓天美決定成為寄養父母，重拾做母親的心願。每個短暫停留的孩子，有些讓人頭痛、有些讓人心疼，她全心全意地付出漸漸變成一意孤行，與丈夫何彬越來越疏離…一個家該如何重新完整每顆破碎的心？\\n                '}\n",
            "{'ch_name': '聖蛛', 'en_name': 'Holy Spider', 'movie_url': 'https://movies.yahoo.com.tw/movieinfo_main/%E8%81%96%E8%9B%9B-holy-spider-14886', 'release_date': '上映日期：2023-03-17', 'intro': '\\n                  ★2023 奧斯卡最佳國際影片 丹麥代表\\r\\n★入圍 第75屆坎城影展 主競賽\\r\\n★榮獲 第75屆坎城影展 最佳女主角獎\\r\\n★榮獲 第33屆斯德哥爾摩國際電影節 銅馬獎、最佳演員獎\\r\\n★2022多倫多影展 官方入選\\r\\n★2022倫敦電影節 官方入選\\r\\n★2022釜山國際影展 官方入選\\r\\n★2022歐洲電影獎 最佳影片、導演、劇本、女演員獎 提名\\r\\n★《邊境奇譚》導演阿里．阿巴西改編伊朗「蜘蛛殺手」事件，生涯最具爭議代表作\\n\\r\\n一名女記者介入調查伊朗聖城馬什哈德的連續殺人案，兇手被稱作蜘蛛殺手，專挑遊蕩街頭的性工作者下手，並宣稱是在「清洗罪惡」。隨著受害者不斷增加，政府非但沒有作為，整座城市的氣氛還變得愈發詭譎…\\n                '}\n",
            "{'ch_name': '沙贊！眾神之怒', 'en_name': 'Shazam! Fury of the Gods', 'movie_url': 'https://movies.yahoo.com.tw/movieinfo_main/%E6%B2%99%E8%B4%8A-%E7%9C%BE%E7%A5%9E%E4%B9%8B%E6%80%92-shazam-fury-of-the-gods-13749', 'release_date': '上映日期：2023-03-16', 'intro': '\\n                  《沙贊！眾神之怒》接續描述青少年比利貝特森的故事，只要他喊出神奇字眼「沙贊！」，就會立刻變身為成人身體的超級英雄沙贊。\\n\\r\\n《沙贊！眾神之怒》由原班人馬出演，包含柴克萊威（《雷神索爾3：諸神黃昏》）飾演沙贊；亞瑟安傑爾（影集《安迪麥克》）飾演比利貝特森；傑克狄倫葛雷瑟（《牠：第二章》）飾演佛萊迪費里曼；亞當布洛迪（《花漾女子》）飾演超級英雄佛萊迪；羅斯巴特勒（《尋龍使者：拉雅》）飾演超級英雄尤金；梅根古德（《打卡獵人》）飾演超級英雄黛拉；D.J.科特羅納（《特種部隊2：正面對決》）飾演超級英雄佩卓；葛莉絲福爾頓（《安娜貝爾：造孽》）飾演瑪莉布隆菲爾德／超級英雄瑪莉；費絲赫曼（影集《這就是我們》）飾演黛拉達德利；陳琦燁（《狗狗的旅程》）飾演崔尤金；喬芬阿曼（《Second Chances》）飾演佩卓潘納；瑪莎米蘭絲（影集《白線》）飾演蘿莎范斯奎茲；庫柏安德魯斯（影集《陰屍路》）飾演維克多范斯奎茲；以及吉蒙韓蘇（《噤界II》）飾演巫師。\\n                '}\n"
          ]
        }
      ]
    }
  ]
}